{
 "cells": [
  {
   "cell_type": "code",
   "execution_count": 21,
   "metadata": {
    "collapsed": true
   },
   "outputs": [],
   "source": [
    "import pandas as pd\n",
    "import matplotlib.pyplot as plt\n",
    "import numpy as np\n",
    "from scipy.stats import linregress # will do this later, need to take care of missing values"
   ]
  },
  {
   "cell_type": "code",
   "execution_count": 22,
   "metadata": {
    "collapsed": false
   },
   "outputs": [
    {
     "data": {
      "text/html": [
       "<div style=\"max-height:1000px;max-width:1500px;overflow:auto;\">\n",
       "<table border=\"1\" class=\"dataframe\">\n",
       "  <thead>\n",
       "    <tr style=\"text-align: right;\">\n",
       "      <th></th>\n",
       "      <th>Municipality</th>\n",
       "      <th>Municipality_GR</th>\n",
       "      <th>Mean_Price</th>\n",
       "      <th>Percent_NO</th>\n",
       "    </tr>\n",
       "  </thead>\n",
       "  <tbody>\n",
       "    <tr>\n",
       "      <th>0</th>\n",
       "      <td>Acharnes (Menidi)</td>\n",
       "      <td>Αχαρνές (Μενίδι)</td>\n",
       "      <td>1.66</td>\n",
       "      <td>75.25</td>\n",
       "    </tr>\n",
       "    <tr>\n",
       "      <th>1</th>\n",
       "      <td>Ag. Anargiroi</td>\n",
       "      <td>Αγ.Ανάργυροι</td>\n",
       "      <td>2.12</td>\n",
       "      <td>68.75</td>\n",
       "    </tr>\n",
       "    <tr>\n",
       "      <th>2</th>\n",
       "      <td>Ag. Artemios</td>\n",
       "      <td>Αγιος Αρτέμιος</td>\n",
       "      <td>2.60</td>\n",
       "      <td>NaN</td>\n",
       "    </tr>\n",
       "    <tr>\n",
       "      <th>3</th>\n",
       "      <td>Ag. Dimitrios</td>\n",
       "      <td>Αγ.Δημήτριος</td>\n",
       "      <td>2.68</td>\n",
       "      <td>64.69</td>\n",
       "    </tr>\n",
       "    <tr>\n",
       "      <th>4</th>\n",
       "      <td>Ag. Eleftherios</td>\n",
       "      <td>Αγιος Ελευθέριος</td>\n",
       "      <td>2.20</td>\n",
       "      <td>NaN</td>\n",
       "    </tr>\n",
       "  </tbody>\n",
       "</table>\n",
       "</div>"
      ],
      "text/plain": [
       "        Municipality    Municipality_GR  Mean_Price  Percent_NO\n",
       "0  Acharnes (Menidi)   Αχαρνές (Μενίδι)        1.66       75.25\n",
       "1      Ag. Anargiroi       Αγ.Ανάργυροι        2.12       68.75\n",
       "2       Ag. Artemios     Αγιος Αρτέμιος        2.60         NaN\n",
       "3      Ag. Dimitrios       Αγ.Δημήτριος        2.68       64.69\n",
       "4    Ag. Eleftherios   Αγιος Ελευθέριος        2.20         NaN"
      ]
     },
     "execution_count": 22,
     "metadata": {},
     "output_type": "execute_result"
    }
   ],
   "source": [
    "## Data source: http://www.real4u.gr/content.php?id=61\n",
    "\n",
    "df = pd.read_csv(\"housing_prices.csv\", sep=\",\", header=None)\n",
    "df.columns = [\"Municipality\", \"Municipality_GR\", \"Mean_Price\", \"Percent_NO\"]\n",
    "df.head()"
   ]
  },
  {
   "cell_type": "code",
   "execution_count": 29,
   "metadata": {
    "collapsed": false
   },
   "outputs": [
    {
     "data": {
      "text/plain": [
       "<matplotlib.text.Text at 0x7fa53bc52610>"
      ]
     },
     "execution_count": 29,
     "metadata": {},
     "output_type": "execute_result"
    }
   ],
   "source": [
    "ax = df.plot(kind='scatter', x=\"Mean_Price\", y=\"Percent_NO\")\n",
    "ax.set_xlabel(\"Average real estate price - 2010 value (1000 Euro / sq.m.)\")\n",
    "ax.set_ylabel(\"Percentge of NO vote\")"
   ]
  },
  {
   "cell_type": "code",
   "execution_count": 30,
   "metadata": {
    "collapsed": true
   },
   "outputs": [],
   "source": [
    "plt.show()"
   ]
  },
  {
   "cell_type": "code",
   "execution_count": null,
   "metadata": {
    "collapsed": true
   },
   "outputs": [],
   "source": []
  }
 ],
 "metadata": {
  "kernelspec": {
   "display_name": "Python 2",
   "language": "python",
   "name": "python2"
  },
  "language_info": {
   "codemirror_mode": {
    "name": "ipython",
    "version": 2
   },
   "file_extension": ".py",
   "mimetype": "text/x-python",
   "name": "python",
   "nbconvert_exporter": "python",
   "pygments_lexer": "ipython2",
   "version": "2.7.6"
  }
 },
 "nbformat": 4,
 "nbformat_minor": 0
}
